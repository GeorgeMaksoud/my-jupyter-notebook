{
 "cells": [
  {
   "cell_type": "markdown",
   "id": "b0257821-a9c8-479e-a36f-8b56ed7d4b50",
   "metadata": {
    "tags": []
   },
   "source": [
    "My Jupyter Notebook on IBM Watson Studio"
   ]
  },
  {
   "cell_type": "markdown",
   "id": "6c92dce5-4233-4804-8a38-2131bcc3edce",
   "metadata": {
    "tags": []
   },
   "source": [
    "George Maksoud "
   ]
  },
  {
   "cell_type": "markdown",
   "id": "6871fcd4-ff7c-4c1e-9d76-acea7938c381",
   "metadata": {},
   "source": [
    "I am interested in data science because I love to gain insights from data"
   ]
  },
  {
   "cell_type": "markdown",
   "id": "1246a258-c11e-4874-ba20-a8dbf2576e68",
   "metadata": {},
   "source": [
    "the following code tests the gauss formula"
   ]
  },
  {
   "cell_type": "code",
   "execution_count": 2,
   "id": "9daca5ec-f9c4-4615-b86c-7bb60230c432",
   "metadata": {},
   "outputs": [
    {
     "data": {
      "text/plain": [
       "True"
      ]
     },
     "execution_count": 2,
     "metadata": {},
     "output_type": "execute_result"
    }
   ],
   "source": [
    "def gauss(n):\n",
    "    return (n*(n+1))/2\n",
    "gauss(100) == sum(range(101))"
   ]
  },
  {
   "cell_type": "markdown",
   "id": "6424d4b3-8cd4-4451-b44a-95c5fd189f40",
   "metadata": {},
   "source": [
    "# H1\n",
    "## H2\n",
    "### H3\n",
    "#### H4\n",
    "##### H5\n",
    "###### H6"
   ]
  },
  {
   "cell_type": "markdown",
   "id": "d689120c-f890-4af4-8859-54630e5e3ed5",
   "metadata": {},
   "source": [
    "| col 3 is      | right-aligned | $1600 |\n",
    "| col 2 is      | centered      |   $12 |\n",
    "| zebra stripes | are neat      |    $1 |"
   ]
  },
  {
   "cell_type": "markdown",
   "id": "2297a955-c175-47e5-bac4-b1978fa19455",
   "metadata": {},
   "source": [
    "[I'm an inline-style link](https://www.google.com)"
   ]
  },
  {
   "cell_type": "markdown",
   "id": "f1177e7a-6546-47b8-a21b-15ba234ef966",
   "metadata": {},
   "source": [
    "Inline `code` has `back-ticks around` it."
   ]
  },
  {
   "cell_type": "code",
   "execution_count": null,
   "id": "d44e0981-5e26-4d61-aec3-8d22f85670b1",
   "metadata": {},
   "outputs": [],
   "source": []
  }
 ],
 "metadata": {
  "kernelspec": {
   "display_name": "Python",
   "language": "python",
   "name": "conda-env-python-py"
  },
  "language_info": {
   "codemirror_mode": {
    "name": "ipython",
    "version": 3
   },
   "file_extension": ".py",
   "mimetype": "text/x-python",
   "name": "python",
   "nbconvert_exporter": "python",
   "pygments_lexer": "ipython3",
   "version": "3.7.12"
  }
 },
 "nbformat": 4,
 "nbformat_minor": 5
}
